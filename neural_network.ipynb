{
 "cells": [
  {
   "cell_type": "code",
   "execution_count": 89,
   "metadata": {},
   "outputs": [],
   "source": [
    "import numpy as np\n",
    "from typing import Type, Tuple"
   ]
  },
  {
   "cell_type": "code",
   "execution_count": 90,
   "metadata": {},
   "outputs": [],
   "source": [
    "np.random.seed(0)"
   ]
  },
  {
   "cell_type": "code",
   "execution_count": 123,
   "metadata": {},
   "outputs": [],
   "source": [
    "class ActivationFunction:\n",
    "    def __init__(self, type: str) -> None:\n",
    "        self.type = type\n",
    "        \n",
    "    def forward(z: np.ndarray) -> np.ndarray:\n",
    "        pass\n",
    "\n",
    "class Layer:\n",
    "    def __init__(self, type: str, size: Tuple, activation: Type[ActivationFunction] | None) -> None:\n",
    "        self.type: str = type\n",
    "        self.size: Tuple = size\n",
    "        self.activation = activation\n",
    "        \n",
    "    def __str__(self) -> str:\n",
    "        return f\"Base Layer class\"\n",
    "\n",
    "    def forward(self):\n",
    "        pass\n",
    "\n",
    "class Dense(Layer):\n",
    "     \n",
    "    def __init__(self, size: Tuple, activation: Type[ActivationFunction]) -> None:\n",
    "        super().__init__(\"Dense\", size, activation)\n",
    "        self.weights = np.random.rand(*size)\n",
    "        self.bias = np.random.randint(-5, 5)\n",
    "        \n",
    "    def __str__(self) -> str:\n",
    "        return f\"- {self.type} -\\nWeights:\\n{self.weights}\\n{'-'*15}\\nBias: {self.bias}\"\n",
    "\n",
    "\n",
    "    def forward(self, x: np.ndarray) -> np.ndarray:\n",
    "        return np.dot(x, self.weights) + self.bias\n",
    "\n",
    "\n",
    "class Input(Layer):\n",
    "    def __init__(self, inputs: np.ndarray) -> None:\n",
    "        super().__init__(\"Input\", inputs.size, None)\n",
    "        self.x: np.ndarray = inputs\n",
    "        \n",
    "    def forward(self) -> np.ndarray:\n",
    "        return self.x\n",
    "        \n",
    "  \n",
    "class ReLu(ActivationFunction):\n",
    "    def __init__(self, type: str) -> None:\n",
    "        super().__init__(\"Relu\")\n",
    "        \n",
    "    def forward(z: np.ndarray) -> np.ndarray:\n",
    "        return np.maximum(0, z)\n",
    "    \n",
    "    \n",
    "class Sigmoid(ActivationFunction):\n",
    "    def __init__(self, type: str) -> None:\n",
    "        super().__init__(\"Sigmoid\")\n",
    "        \n",
    "    def forward(z: np.ndarray):\n",
    "        return 1 / (1 + np.exp(-z))\n",
    "\n",
    "    \n",
    "class NeuralNetwork:\n",
    "    def __init__(self) -> None:\n",
    "        self.layers: np.ndarray[Type[Layer]] = np.array([])\n",
    "    \n",
    "    def __str__(self) -> str:\n",
    "        return \",\\n\".join([f\"Layer {layer.type} (size={layer.size})\" for layer in self.layers])\n",
    "    \n",
    "    def add(self, layer: Type[Layer]) -> None:\n",
    "        self.layers = np.append(self.layers, layer)\n",
    "        \n",
    "    def forward(self) -> np.ndarray:\n",
    "        z = self.layers[0].forward()\n",
    "        for layer in self.layers[1:]:\n",
    "            z = layer.forward(z)\n",
    "            \n",
    "            if layer.activation:\n",
    "                z = layer.activation.forward(z)\n",
    "                            \n",
    "        return z"
   ]
  },
  {
   "cell_type": "code",
   "execution_count": 134,
   "metadata": {},
   "outputs": [
    {
     "data": {
      "text/plain": [
       "array([0.92697234, 0.81727546, 0.88744932])"
      ]
     },
     "execution_count": 134,
     "metadata": {},
     "output_type": "execute_result"
    }
   ],
   "source": [
    "nn = NeuralNetwork()\n",
    "nn.add(Input(inputs=np.random.rand(2)))\n",
    "nn.add(Dense(size=(2, 3), activation=ReLu))\n",
    "nn.add(Dense(size=(3, 3), activation=Sigmoid))\n",
    "\n",
    "\n",
    "nn.forward()"
   ]
  }
 ],
 "metadata": {
  "kernelspec": {
   "display_name": "ml",
   "language": "python",
   "name": "python3"
  },
  "language_info": {
   "codemirror_mode": {
    "name": "ipython",
    "version": 3
   },
   "file_extension": ".py",
   "mimetype": "text/x-python",
   "name": "python",
   "nbconvert_exporter": "python",
   "pygments_lexer": "ipython3",
   "version": "3.11.4"
  }
 },
 "nbformat": 4,
 "nbformat_minor": 2
}
