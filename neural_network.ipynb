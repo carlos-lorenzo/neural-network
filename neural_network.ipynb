{
 "cells": [
  {
   "cell_type": "code",
   "execution_count": 1,
   "metadata": {},
   "outputs": [],
   "source": [
    "from typing import Type, Tuple\n",
    "\n",
    "import numpy as np\n",
    "import matplotlib.pyplot as plt\n",
    "from nnfs.datasets import spiral_data"
   ]
  },
  {
   "cell_type": "code",
   "execution_count": 2,
   "metadata": {},
   "outputs": [],
   "source": [
    "np.random.seed(0)"
   ]
  },
  {
   "cell_type": "code",
   "execution_count": 54,
   "metadata": {},
   "outputs": [],
   "source": [
    "class ActivationFunction:\n",
    "    def __init__(self, type: str) -> None:\n",
    "        self.type = type\n",
    "        \n",
    "\n",
    "\n",
    "class ReLu(ActivationFunction):\n",
    "    def __init__(self) -> None:\n",
    "        super().__init__(\"Relu\")\n",
    "        \n",
    "    def output(z: np.ndarray) -> np.ndarray:\n",
    "        return np.maximum(0, z)\n",
    "    \n",
    "    \n",
    "class Sigmoid(ActivationFunction):\n",
    "    def __init__(self) -> None:\n",
    "        super().__init__(\"Sigmoid\")\n",
    "        \n",
    "    def output(z: np.ndarray):\n",
    "        return 1 / (1 + np.exp(-z))\n",
    "\n",
    "\n",
    "class Softmax(ActivationFunction):\n",
    "    def __init__(self) -> None:\n",
    "        super().__init__(\"Sigmoid\")\n",
    "        \n",
    "    def output(z: np.ndarray):\n",
    "        exp_values = np.exp(z - np.max(z, axis=1, keepdims=True))\n",
    "        return exp_values / np.sum(exp_values, axis=1, keepdims=True)"
   ]
  },
  {
   "cell_type": "code",
   "execution_count": 55,
   "metadata": {},
   "outputs": [],
   "source": [
    "class Layer:\n",
    "    def __init__(self, type: str, size: Tuple, activation: Type[ActivationFunction] | None) -> None:\n",
    "        self.type: str = type\n",
    "        self.size: Tuple = size\n",
    "        self.activation = activation\n",
    "        self.output = 0\n",
    "        \n",
    "    def __str__(self) -> str:\n",
    "        return f\"Base Layer class\"\n",
    "\n",
    "    def forward(self):\n",
    "        pass\n",
    "\n",
    "class Dense(Layer):\n",
    "     \n",
    "    def __init__(self, size: Tuple, activation: Type[ActivationFunction]) -> None:\n",
    "        super().__init__(\"Dense\", size, activation)\n",
    "        self.weights = np.random.rand(*size) * 0.01\n",
    "        self.biases = np.zeros((1, size[1]))\n",
    "        \n",
    "        \n",
    "    def __str__(self) -> str:\n",
    "        return f\"- {self.type} -\\nWeights:\\n{self.weights}\\n{'-'*15}\\nBias: {self.biases}\"\n",
    "\n",
    "\n",
    "    def forward(self, x: np.ndarray) -> None:\n",
    "        self.output = self.activation.output(np.dot(x, self.weights) + self.biases)\n",
    "\n",
    "    \n",
    "\n",
    "class Input(Layer):\n",
    "    def __init__(self, inputs: np.ndarray) -> None:\n",
    "        super().__init__(\"Input\", inputs.size, None)\n",
    "        self.output = inputs"
   ]
  },
  {
   "cell_type": "code",
   "execution_count": 71,
   "metadata": {},
   "outputs": [],
   "source": [
    "class Loss:\n",
    "    def __init__(self, type: str) -> None:\n",
    "        self.type: str = type\n",
    "\n",
    "\n",
    "class CategoricalCrossEntropy(Loss):\n",
    "    def __init__(self) -> None:\n",
    "        super().__init__(\"Categorical\")\n",
    "        \n",
    "    def forward(self, y_pred: np.ndarray, y_true: np.ndarray) -> np.ndarray:\n",
    "        y_pred_clipped = np.clip(y_pred, 1- 1e7, 1e7)\n",
    "        \n",
    "        return -np.log(y_pred_clipped[range(len(y_pred)), y_true])"
   ]
  },
  {
   "cell_type": "code",
   "execution_count": 43,
   "metadata": {},
   "outputs": [],
   "source": [
    "class NeuralNetwork:\n",
    "    def __init__(self) -> None:\n",
    "        self.layers: np.ndarray[Type[Layer]] = np.array([])\n",
    "    \n",
    "    def __str__(self) -> str:\n",
    "        return \",\\n\".join([f\"Layer {layer.type} (size={layer.size})\" for layer in self.layers])\n",
    "    \n",
    "    def add(self, layer: Type[Layer]) -> None:\n",
    "        self.layers = np.append(self.layers, layer)\n",
    "        \n",
    "    def propagate_forward(self) -> np.ndarray:\n",
    "        z = self.layers[0].forward()\n",
    "        for layer in self.layers[1:]:\n",
    "            z = layer.activation.output(layer.forward(z))\n",
    "            \n",
    "        print(z)  \n",
    "        return CategoricalCrossEntropy().output(z, 1)"
   ]
  },
  {
   "cell_type": "code",
   "execution_count": 74,
   "metadata": {},
   "outputs": [
    {
     "data": {
      "text/plain": [
       "array([1.09861229, 1.09861295, 1.09861191, 1.09861229, 1.09861229,\n",
       "       1.09860081, 1.09861555, 1.09862653, 1.09861658, 1.09861229,\n",
       "       1.09861229, 1.09861229, 1.09860567, 1.09860351, 1.09860413,\n",
       "       1.09861229, 1.09861229, 1.09861288, 1.0985909 , 1.09857794,\n",
       "       1.09861229, 1.09861353, 1.09861229, 1.09861229, 1.09861669,\n",
       "       1.09862856, 1.09861896, 1.09861512, 1.09861229, 1.09861229])"
      ]
     },
     "execution_count": 74,
     "metadata": {},
     "output_type": "execute_result"
    }
   ],
   "source": [
    "X, y = spiral_data(samples=10, classes=3)\n",
    "\n",
    "dense1 = Dense(size=(2, 16), activation=ReLu)\n",
    "\n",
    "dense2 = Dense(size=(16, 3), activation=Softmax)\n",
    "\n",
    "loss = CategoricalCrossEntropy()\n",
    "\n",
    "dense1.forward(X)\n",
    "dense2.forward(dense1.output)\n"
   ]
  },
  {
   "cell_type": "code",
   "execution_count": 37,
   "metadata": {},
   "outputs": [
    {
     "data": {
      "text/plain": [
       "[(array([0., 0.]), 0),\n",
       " (array([0.02643262, 0.10792125]), 0),\n",
       " (array([ 0.2165211, -0.0500133]), 0),\n",
       " (array([-0.17892653, -0.28124084]), 0),\n",
       " (array([-0.32890213, -0.29892181]), 0),\n",
       " (array([-0.47760467,  0.28378822]), 0),\n",
       " (array([0.31703328, 0.58645916]), 0),\n",
       " (array([0.02011156, 0.77751771]), 0),\n",
       " (array([ 0.37020803, -0.80812714]), 0),\n",
       " (array([-0.66834576, -0.74385075]), 0),\n",
       " (array([-0., -0.]), 1),\n",
       " (array([-0.06400931,  0.09082119]), 1),\n",
       " (array([-0.12589608,  0.18311988]), 1),\n",
       " (array([0.20543324, 0.2625039 ]), 1),\n",
       " (array([0.44281352, 0.03804014]), 1),\n",
       " (array([ 0.24805564, -0.49710198]), 1),\n",
       " (array([-0.3750798 , -0.55114389]), 1),\n",
       " (array([-0.77023843,  0.10803258]), 1),\n",
       " (array([-0.71840637,  0.52346514]), 1),\n",
       " (array([0.54768082, 0.83668735]), 1),\n",
       " (array([0., 0.]), 2),\n",
       " (array([ 0.0963875 , -0.05527322]), 2),\n",
       " (array([ 0.00333353, -0.22219722]), 2),\n",
       " (array([-0.30071328, -0.14381458]), 2),\n",
       " (array([-0.22521856,  0.38315462]), 2),\n",
       " (array([-0.13247125,  0.53953067]), 2),\n",
       " (array([ 0.60914955, -0.27088978]), 2),\n",
       " (array([ 0.77731502, -0.0268258 ]), 2),\n",
       " (array([-0.8014201 , -0.38451173]), 2),\n",
       " (array([-0.9329742 ,  0.35994325]), 2)]"
      ]
     },
     "execution_count": 37,
     "metadata": {},
     "output_type": "execute_result"
    }
   ],
   "source": [
    "[(ux, uy) for ux, uy in zip(X, y)]"
   ]
  },
  {
   "cell_type": "code",
   "execution_count": 45,
   "metadata": {},
   "outputs": [
    {
     "data": {
      "text/plain": [
       "array([[-0.00000000e+00,  0.00000000e+00],\n",
       "       [ 1.09125150e-01, -2.09136491e-02],\n",
       "       [ 2.10037764e-01, -7.25730913e-02],\n",
       "       [ 5.05444776e-02, -3.29478932e-01],\n",
       "       [-4.38045117e-01,  7.51487854e-02],\n",
       "       [-4.62962010e-01,  3.07096324e-01],\n",
       "       [-9.83888719e-02,  6.59366419e-01],\n",
       "       [ 7.70341748e-01,  1.07293352e-01],\n",
       "       [ 8.49465298e-01, -2.61786485e-01],\n",
       "       [-4.05520018e-02, -9.99177429e-01],\n",
       "       [-0.00000000e+00, -0.00000000e+00],\n",
       "       [-6.54894349e-02,  8.97597512e-02],\n",
       "       [-1.67272321e-01,  1.46296571e-01],\n",
       "       [ 3.28584458e-01,  5.60657204e-02],\n",
       "       [ 4.23537468e-01, -1.34710347e-01],\n",
       "       [-1.20255205e-01, -5.42384237e-01],\n",
       "       [-5.33168204e-01, -4.00220078e-01],\n",
       "       [-7.77777674e-01,  4.01045595e-04],\n",
       "       [-1.05959827e-01,  8.82550832e-01],\n",
       "       [ 8.92457360e-01,  4.51131756e-01],\n",
       "       [ 0.00000000e+00,  0.00000000e+00],\n",
       "       [ 8.63184658e-02, -6.99628579e-02],\n",
       "       [-1.38498005e-01, -1.73784403e-01],\n",
       "       [-2.54374962e-01, -2.15417014e-01],\n",
       "       [-3.28914317e-01,  2.98908408e-01],\n",
       "       [ 1.48883061e-01,  5.35234350e-01],\n",
       "       [ 6.51845634e-01, -1.39791679e-01],\n",
       "       [ 3.76426304e-01, -6.80618476e-01],\n",
       "       [-7.86719065e-01, -4.13759072e-01],\n",
       "       [-8.99399050e-01, -4.37128527e-01]])"
      ]
     },
     "execution_count": 45,
     "metadata": {},
     "output_type": "execute_result"
    }
   ],
   "source": [
    "X"
   ]
  }
 ],
 "metadata": {
  "kernelspec": {
   "display_name": "ml",
   "language": "python",
   "name": "python3"
  },
  "language_info": {
   "codemirror_mode": {
    "name": "ipython",
    "version": 3
   },
   "file_extension": ".py",
   "mimetype": "text/x-python",
   "name": "python",
   "nbconvert_exporter": "python",
   "pygments_lexer": "ipython3",
   "version": "3.11.4"
  }
 },
 "nbformat": 4,
 "nbformat_minor": 2
}
