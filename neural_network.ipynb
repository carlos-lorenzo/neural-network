{
 "cells": [
  {
   "cell_type": "code",
   "execution_count": 40,
   "metadata": {},
   "outputs": [],
   "source": [
    "from typing import Type, Tuple\n",
    "\n",
    "import numpy as np\n",
    "import nnfs\n",
    "from nnfs.datasets import spiral_data, vertical_data"
   ]
  },
  {
   "cell_type": "code",
   "execution_count": 5,
   "metadata": {},
   "outputs": [],
   "source": [
    "nnfs.init()"
   ]
  },
  {
   "cell_type": "code",
   "execution_count": 205,
   "metadata": {},
   "outputs": [],
   "source": [
    "# Activation functions\n",
    "class ActivationFunction:\n",
    "    def __init__(self) -> None:\n",
    "        self.inputs: np.ndarray\n",
    "        self.output: np.ndarray\n",
    "\n",
    "    def forward(self, inputs: np.ndarray) -> None:\n",
    "        self.inputs = inputs\n",
    "\n",
    "class Activation_ReLu(ActivationFunction):\n",
    "    def __init__(self) -> None:\n",
    "        super().__init__()\n",
    "    \n",
    "    def forward(self, inputs) -> None:\n",
    "        self.inputs = inputs\n",
    "        self.output = np.maximum(0, inputs)\n",
    "        \n",
    "    def backward(self, dvalues):\n",
    "        self.dinputs = dvalues.copy()\n",
    "        self.dinputs[self.inputs <= 0] = 0\n",
    "\n",
    "\n",
    "class Activation_Softmax(ActivationFunction):\n",
    "    def __init__(self) -> None:\n",
    "        super().__init__()\n",
    "        \n",
    "    def forward(self, inputs: np.ndarray) -> None:\n",
    "        self.inputs = inputs\n",
    "        \n",
    "        exponientiated = np.exp(inputs - np.max(inputs, axis=1, keepdims=True))\n",
    "        self.output =  exponientiated / np.sum(exponientiated, axis=1, keepdims=True)"
   ]
  },
  {
   "cell_type": "code",
   "execution_count": 132,
   "metadata": {},
   "outputs": [],
   "source": [
    "# Loss\n",
    "class Loss:\n",
    "    def __init__(self) -> None:\n",
    "        self.inputs: np.ndarray\n",
    "        self.output: np.ndarray\n",
    "        \n",
    "    def forward(self, y_pred: np.ndarray, y: np.ndarray) -> None:\n",
    "        self.inputs = y_pred\n",
    "    \n",
    "    def calculate(self, output: np.ndarray, y: np.ndarray) -> float:\n",
    "        self.forward(self, output, y)\n",
    "        return np.mean(self.output)\n",
    "    \n",
    "    \n",
    "class CategoricalCrossEntropy(Loss):\n",
    "    def __init__(self) -> None:\n",
    "        super().__init__()\n",
    "        \n",
    "    def forward(self, y_pred: np.ndarray, y_true: np.ndarray):\n",
    "        \n",
    "        y_pred_clipped = np.clip(y_pred, 1e-7, 1 - 1e-7)\n",
    "        \n",
    "        if len(y_true.shape) == 1:\n",
    "            correct_confidences = y_pred_clipped[range(len(y_pred)), y_true]\n",
    "        \n",
    "        elif len(y_true.shape) == 2:\n",
    "            correct_confidences = np.sum(y_pred_clipped * y_true, axis=1)\n",
    "            \n",
    "        self.output = -np.log(correct_confidences)"
   ]
  },
  {
   "cell_type": "code",
   "execution_count": 134,
   "metadata": {},
   "outputs": [],
   "source": [
    "class Activation_Softmax_Loss_CategoricalCrossEntropy:\n",
    "    def __init__(self) -> None:\n",
    "        self.activation_function = Activation_Softmax\n",
    "        self.loss = CategoricalCrossEntropy\n",
    "        \n",
    "    def forward(self, inputs: np.ndarray, y_true: np.ndarray) -> float:\n",
    "        self.activation_function.forward(self.activation_function, inputs)\n",
    "        \n",
    "        self.output = self.activation_function.output\n",
    "        \n",
    "        return self.loss.calculate(self.loss, self.output, y_true)\n",
    "    \n",
    "    def backward(self, dvalues: np.ndarray, y_true: np.ndarray) -> None:\n",
    "        samples = len(dvalues)\n",
    "        \n",
    "        if len(y_true.shape) == 2:\n",
    "            y_true = np.argmax(y_true, axis=1)\n",
    "            \n",
    "        self.dinputs = dvalues.copy()\n",
    "        \n",
    "        self.dinputs[range(samples), y_true] -= 1\n",
    "        \n",
    "        self.dinputs = self.dinputs / samples"
   ]
  },
  {
   "cell_type": "code",
   "execution_count": 179,
   "metadata": {},
   "outputs": [],
   "source": [
    "class Layer_Dense:\n",
    "    def __init__(self, size: Tuple[int, int]):\n",
    "        self.size = size\n",
    "        \n",
    "        self.weights = np.random.rand(*size)\n",
    "        self.biases = np.zeros((1, size[1]))\n",
    "        \n",
    "        self.inputs: np.ndarray\n",
    "        self.output: np.ndarray\n",
    "        \n",
    "    def forward(self, inputs: np.ndarray):\n",
    "        self.inputs = inputs\n",
    "        self.output = np.dot(inputs, self.weights) + self.biases\n",
    "        \n",
    "        \n",
    "    def backward(self, dvalues) -> None:\n",
    "        self.dweights = np.dot(self.inputs.T, dvalues)\n",
    "        self.dbiases = np.sum(dvalues, axis=0, keepdims=True)\n",
    "        self.dinputs = np.dot(dvalues, self.weights.T)\n",
    "        \n",
    "        "
   ]
  },
  {
   "cell_type": "code",
   "execution_count": 201,
   "metadata": {},
   "outputs": [],
   "source": [
    "class Optimiser_SGD:\n",
    "    def __init__(self, learning_rate=1.0) -> None:\n",
    "        self.learning_rate = learning_rate\n",
    "        \n",
    "    def update_params(self, layer: Layer_Dense )-> None:\n",
    "        layer.weights += -self.learning_rate * layer.dweights\n",
    "        layer.biases += -self.learning_rate * layer.dbiases"
   ]
  },
  {
   "cell_type": "code",
   "execution_count": 180,
   "metadata": {},
   "outputs": [],
   "source": [
    "def accuracy(y_pred: np.ndarray, y_true: np.ndarray) -> float:\n",
    "    \n",
    "    if len(y_true.shape) == 2:\n",
    "        y_true = np.argmax(y_true, axis=1)\n",
    "        \n",
    "    return np.mean(y_pred == y_true)"
   ]
  },
  {
   "cell_type": "code",
   "execution_count": 208,
   "metadata": {},
   "outputs": [
    {
     "name": "stdout",
     "output_type": "stream",
     "text": [
      "0. Acc: 0.3233333333333333 | Loss: 1.177062749862671\n",
      "1000. Acc: 0.47333333333333333 | Loss: 0.9750047922134399\n",
      "2000. Acc: 0.5166666666666667 | Loss: 0.9293308258056641\n",
      "3000. Acc: 0.5466666666666666 | Loss: 0.8958826661109924\n",
      "4000. Acc: 0.56 | Loss: 0.8663973808288574\n",
      "5000. Acc: 0.5633333333333334 | Loss: 0.8581197261810303\n",
      "6000. Acc: 0.5166666666666667 | Loss: 0.9957481026649475\n",
      "7000. Acc: 0.54 | Loss: 0.8755113482475281\n",
      "8000. Acc: 0.64 | Loss: 0.723547637462616\n",
      "9000. Acc: 0.64 | Loss: 0.7193661332130432\n",
      "10000. Acc: 0.66 | Loss: 0.6661862134933472\n"
     ]
    }
   ],
   "source": [
    "X, y = spiral_data(100, 3)\n",
    "\n",
    "\n",
    "dense1 = Layer_Dense((2, 64))\n",
    "activation1 = Activation_ReLu()\n",
    "dense2 = Layer_Dense((64, 3))\n",
    "loss_activation = Activation_Softmax_Loss_CategoricalCrossEntropy()\n",
    "optmiser = Optimiser_SGD()\n",
    "\n",
    "for epoch in range(10001):\n",
    "    dense1.forward(X)\n",
    "    activation1.forward(dense1.output)\n",
    "    dense2.forward(activation1.output)\n",
    "    loss = loss_activation.forward(dense2.output, y)\n",
    "\n",
    "\n",
    "    loss_activation.backward(loss_activation.output, y)\n",
    "    dense2.backward(loss_activation.dinputs)\n",
    "    activation1.backward(dense2.dinputs)\n",
    "    dense1.backward(activation1.dinputs)\n",
    "\n",
    "    optmiser.update_params(dense1)\n",
    "    optmiser.update_params(dense2)\n",
    "\n",
    "\n",
    "    predictions = np.argmax(loss_activation.output, axis=1)\n",
    "    \n",
    "    if epoch % 1000 == 0:\n",
    "        print(f\"{epoch}. Acc: {accuracy(predictions, y)} | Loss: {loss}\")\n"
   ]
  }
 ],
 "metadata": {
  "kernelspec": {
   "display_name": "ml",
   "language": "python",
   "name": "python3"
  },
  "language_info": {
   "codemirror_mode": {
    "name": "ipython",
    "version": 3
   },
   "file_extension": ".py",
   "mimetype": "text/x-python",
   "name": "python",
   "nbconvert_exporter": "python",
   "pygments_lexer": "ipython3",
   "version": "3.11.4"
  }
 },
 "nbformat": 4,
 "nbformat_minor": 2
}
